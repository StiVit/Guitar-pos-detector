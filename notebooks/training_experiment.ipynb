{
 "cells": [
  {
   "cell_type": "markdown",
   "id": "44c58c9f",
   "metadata": {},
   "source": [
    "#### Jupyter notebooks for training and evaluation"
   ]
  }
 ],
 "metadata": {
  "language_info": {
   "name": "python"
  }
 },
 "nbformat": 4,
 "nbformat_minor": 5
}
